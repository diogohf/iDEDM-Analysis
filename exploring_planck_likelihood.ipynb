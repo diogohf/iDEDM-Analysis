{
 "cells": [
  {
   "cell_type": "markdown",
   "id": "6536ca0b",
   "metadata": {},
   "source": [
    "# Exploring the Planck Likelihood Code - plc / Clik\n",
    "Author: João Victor S. Rebouças, December 2021\n",
    "\n",
    "This is a notebook for learning how to use clik independently.\n",
    "\n",
    "Follow the installation guide at https://github.com/CoupleDE-UNESP/Joao_repository/blob/main/My_Notes/installing_planck_likelihood.md\n",
    "\n",
    "A full description of the likelihood is in https://wiki.cosmos.esa.int/planck-legacy-archive/index.php/CMB_spectrum_%26_Likelihood_Code"
   ]
  },
  {
   "cell_type": "code",
   "execution_count": 5,
   "id": "6899ce96",
   "metadata": {},
   "outputs": [],
   "source": [
    "import sys\n",
    "import numpy as np\n",
    "import matplotlib.pyplot as plt\n",
    "# We need to point to the system the path where clik is installed\n",
    "sys.path.append(\"/home/joaov/cosmo/cocoa_all/open_cocoa2/Cocoa/.local/lib/python/site-packages\")\n",
    "import clik\n",
    "import camb"
   ]
  },
  {
   "cell_type": "code",
   "execution_count": 6,
   "id": "d6da115f",
   "metadata": {},
   "outputs": [],
   "source": [
    "# Paths for clik files\n",
    "# Clik files are directories ending with .clik\n",
    "# Clik files determine the likelihood and provide the Pĺanck data\n",
    "# Data can be downloaded via Cobaya - cobaya-install cosmo -p /desired/path/\n",
    "# Alternatively, you can download the data from https://pla.esac.esa.int/pla/aio/product-action?COSMOLOGY.FILE_ID=COM_Likelihood_Data-baseline_R3.00.tar.gz\n",
    "path_to_data =  '/home/joaov/cosmo/cocoa_all/open_cocoa2/Cocoa/external_modules/data/planck/plc_3.0'\n",
    "highlpath    =  path_to_data+'/hi_l/plik/plik_rd12_HM_v22b_TTTEEE.clik/'\n",
    "lowlTTpath   =  path_to_data+'/low_l/commander/commander_dx12_v3_2_29.clik/'\n",
    "lowlEEpath   =  path_to_data+'/low_l/simall/simall_100x143_offlike5_EE_Aplanck_B.clik/'\n",
    "lensingpath  =  path_to_data+'/lensing/smicadx12_Dec5_ftl_mv2_ndclpp_p_teb_consext8.clik_lensing/'"
   ]
  },
  {
   "cell_type": "code",
   "execution_count": 7,
   "id": "4ff0d80c",
   "metadata": {},
   "outputs": [
    {
     "name": "stdout",
     "output_type": "stream",
     "text": [
      "----\n",
      "clik version dba7f161d364\n",
      "  smica\n",
      "Checking likelihood '/home/joaov/cosmo/cocoa_all/open_cocoa2/Cocoa/external_modules/data/planck/plc_3.0/hi_l/plik/plik_rd12_HM_v22b_TTTEEE.clik/' on test data. got -1172.47 expected -1172.47 (diff -4.34054e-07)\n",
      "----\n",
      "----\n",
      "clik version dba7f161d364\n",
      "  gibbs_gauss b13c8fda-1837-41b5-ae2d-78d6b723fcf1\n",
      "Checking likelihood '/home/joaov/cosmo/cocoa_all/open_cocoa2/Cocoa/external_modules/data/planck/plc_3.0/low_l/commander/commander_dx12_v3_2_29.clik/' on test data. got -11.6257 expected -11.6257 (diff -1.07424e-09)\n",
      "----\n",
      "Initializing SimAll\n",
      "----\n",
      "clik version dba7f161d364\n",
      "  simall simall_EE_BB_TE\n",
      "Checking likelihood '/home/joaov/cosmo/cocoa_all/open_cocoa2/Cocoa/external_modules/data/planck/plc_3.0/low_l/simall/simall_100x143_offlike5_EE_Aplanck_B.clik/' on test data. got -197.99 expected -197.99 (diff -4.1778e-08)\n",
      "----\n",
      "Checking lensing likelihood '/home/joaov/cosmo/cocoa_all/open_cocoa2/Cocoa/external_modules/data/planck/plc_3.0/lensing/smicadx12_Dec5_ftl_mv2_ndclpp_p_teb_consext8.clik_lensing/' on test data. got -4.42102\n"
     ]
    }
   ],
   "source": [
    "# Initializing the likelihoods\n",
    "highl_like   = clik.clik(highlpath)\n",
    "lowl_TT_like = clik.clik(lowlTTpath)\n",
    "lowl_EE_like = clik.clik(lowlEEpath)\n",
    "lensing_like = clik.clik_lensing(lensingpath)"
   ]
  },
  {
   "cell_type": "code",
   "execution_count": 14,
   "id": "db86defd",
   "metadata": {},
   "outputs": [
    {
     "name": "stderr",
     "output_type": "stream",
     "text": [
      "/home/joaov/anaconda3/envs/cocoa/lib/python3.7/site-packages/ipykernel_launcher.py:16: RuntimeWarning: invalid value encountered in true_divide\n",
      "  \n",
      "/home/joaov/anaconda3/envs/cocoa/lib/python3.7/site-packages/ipykernel_launcher.py:17: RuntimeWarning: invalid value encountered in true_divide\n",
      "  app.launch_new_instance()\n",
      "/home/joaov/anaconda3/envs/cocoa/lib/python3.7/site-packages/ipykernel_launcher.py:18: RuntimeWarning: invalid value encountered in true_divide\n"
     ]
    }
   ],
   "source": [
    "# Generating Cls with CAMB\n",
    "lcdmcosmology = camb.set_params(\n",
    "                                ombh2     = 0.02238,\n",
    "                                omch2     = 0.120175,\n",
    "                                thetastar = 0.010409,\n",
    "                                tau       = 0.054308,\n",
    "                                As        = 2.1005*10**(-9),\n",
    "                                ns        = 0.9675,\n",
    "                                max_l     = 2508\n",
    "                               )\n",
    "lcdmresults   = camb.get_results(lcdmcosmology)\n",
    "lcdmdls       = lcdmresults.get_lensed_scalar_cls(CMB_unit='muK')\n",
    "lcdmdltt, lcdmdlee, lcdmdlte = lcdmdls[:,0], lcdmdls[:,1], lcdmdls[:,3]\n",
    "ells   = np.arange(2508+1)\n",
    "factor = ells*(ells + 1)/(2*np.pi)\n",
    "cls = {\"TT\": lcdmdltt/factor,\n",
    "       \"TE\": lcdmdlte/factor,\n",
    "       \"EE\": lcdmdlee/factor}"
   ]
  },
  {
   "cell_type": "markdown",
   "id": "87b87981",
   "metadata": {},
   "source": [
    "## First Example: Calculating $\\chi^2$ for low-l TT spectrum\n",
    "Clik objects are callable. The expected argument is an array with the corresponding $C_\\ell$s and nuisance parameters.\n",
    "\n",
    "For instance, let's check the low-l TT likelihood. To check what it needs, use the methods `get_lmax()` and `get_extra_parameter_names()`"
   ]
  },
  {
   "cell_type": "code",
   "execution_count": 15,
   "id": "eaf57d64",
   "metadata": {},
   "outputs": [
    {
     "name": "stdout",
     "output_type": "stream",
     "text": [
      "Max ells for lowl_TT_like: (29, -1, -1, -1, -1, -1)\n",
      "Apart from Cls, need to insert: ('A_planck',)\n"
     ]
    }
   ],
   "source": [
    "print('Max ells for lowl_TT_like:', lowl_TT_like.get_lmax())\n",
    "print('Apart from Cls, need to insert:', lowl_TT_like.get_extra_parameter_names())"
   ]
  },
  {
   "cell_type": "markdown",
   "id": "696e4a44",
   "metadata": {},
   "source": [
    "This means that, to calculate the low-l TT likelihood, you need to insert $C_\\ell^{TT}$ from $\\ell = 0$ to $\\ell = 29$ and the nuisance parameter `A_planck`, the Planck absolute calibration.\n",
    "\n",
    "These must be passed to the clik object in an 1D array. The order of the array must always be:\n",
    " - $C_\\ell^{TT}$ from $\\ell = 0$ to $\\ell = \\ell_{max}$\n",
    " - $C_\\ell^{EE}$ from $\\ell = 0$ to $\\ell = \\ell_{max}$\n",
    " - $C_\\ell^{BB}$ from $\\ell = 0$ to $\\ell = \\ell_{max}$\n",
    " - $C_\\ell^{TE}$ from $\\ell = 0$ to $\\ell = \\ell_{max}$\n",
    " - $C_\\ell^{TB}$ from $\\ell = 0$ to $\\ell = \\ell_{max}$\n",
    " - $C_\\ell^{EB}$ from $\\ell = 0$ to $\\ell = \\ell_{max}$\n",
    " - Nuisance parameters in the order indicated by `get_extra_parameter_names()`"
   ]
  },
  {
   "cell_type": "code",
   "execution_count": 16,
   "id": "2de91023",
   "metadata": {},
   "outputs": [
    {
     "name": "stdout",
     "output_type": "stream",
     "text": [
      "TT low-l log-likelihood for my example: [-11.43890684]\n"
     ]
    }
   ],
   "source": [
    "lowl_TT_lmax = lowl_TT_like.get_lmax()[0]\n",
    "lowl_TT_cls  = cls['TT'][0:lowl_TT_lmax + 1]\n",
    "aplanck = 1 # Example\n",
    "cls_and_nuisance = np.append(lowl_TT_cls,aplanck)\n",
    "example_loglike = lowl_TT_like(cls_and_nuisance)\n",
    "print('TT low-l log-likelihood for my example:', example_loglike)"
   ]
  },
  {
   "cell_type": "markdown",
   "id": "1ed90b38",
   "metadata": {},
   "source": [
    "## Second Example: high-l TTTEEE\n",
    "There are many nuisance parameters but we can get them from a Cobaya sample. For the calculation, we only need to follow the previous steps."
   ]
  },
  {
   "cell_type": "code",
   "execution_count": 28,
   "id": "cc40e822",
   "metadata": {
    "scrolled": true
   },
   "outputs": [
    {
     "name": "stdout",
     "output_type": "stream",
     "text": [
      "Max ells for high-l TTTEEE likelihood: (2508, 2508, -1, 2508, -1, -1)\n",
      "Apart from Cls, need to insert: ('A_cib_217', 'cib_index', 'xi_sz_cib', 'A_sz', 'ps_A_100_100', 'ps_A_143_143', 'ps_A_143_217', 'ps_A_217_217', 'ksz_norm', 'gal545_A_100', 'gal545_A_143', 'gal545_A_143_217', 'gal545_A_217', 'galf_EE_A_100', 'galf_EE_A_100_143', 'galf_EE_A_100_217', 'galf_EE_A_143', 'galf_EE_A_143_217', 'galf_EE_A_217', 'galf_EE_index', 'galf_TE_A_100', 'galf_TE_A_100_143', 'galf_TE_A_100_217', 'galf_TE_A_143', 'galf_TE_A_143_217', 'galf_TE_A_217', 'galf_TE_index', 'A_cnoise_e2e_100_100_EE', 'A_cnoise_e2e_143_143_EE', 'A_cnoise_e2e_217_217_EE', 'A_sbpx_100_100_TT', 'A_sbpx_143_143_TT', 'A_sbpx_143_217_TT', 'A_sbpx_217_217_TT', 'A_sbpx_100_100_EE', 'A_sbpx_100_143_EE', 'A_sbpx_100_217_EE', 'A_sbpx_143_143_EE', 'A_sbpx_143_217_EE', 'A_sbpx_217_217_EE', 'calib_100T', 'calib_217T', 'calib_100P', 'calib_143P', 'calib_217P', 'A_pol', 'A_planck')\n"
     ]
    }
   ],
   "source": [
    "print('Max ells for high-l TTTEEE likelihood:', highl_like.get_lmax())\n",
    "print('Apart from Cls, need to insert:', highl_like.get_extra_parameter_names())\n",
    "needed_nuisance_params_TTTEEE = highl_like.get_extra_parameter_names()"
   ]
  },
  {
   "cell_type": "code",
   "execution_count": 53,
   "id": "64b89fe6",
   "metadata": {},
   "outputs": [],
   "source": [
    "# I want to get some default values for the Planck nuisance parameters\n",
    "# One place to get them is in Cobaya! Check for instance `cobaya/likelihoods/planck_2018_highl_plik/params_TT.yaml`\n",
    "# Yaml files can be loaded as dictionaries in Python using the pyyaml library\n",
    "# Each entry is a nuisance parameter!\n",
    "import yaml\n",
    "planck_yaml_files =  [\n",
    "                     'calib_pol',\n",
    "                     'calib_temp',\n",
    "                     'calib',\n",
    "                     'EE',\n",
    "                     'TE',\n",
    "                     'TT'                    \n",
    "                    ]\n",
    "yamls = {} # Each yaml is a dictionary whose keys are the nuisance parameters\n",
    "for name in planck_yaml_files:\n",
    "    with open(f'/home/joaov/cosmo/cocoa_all/open_cocoa2/Cocoa/cobaya/cobaya/likelihoods/planck_2018_highl_plik/params_{name}.yaml', 'r') as file:\n",
    "        yamls = {**yamls, **yaml.safe_load(file)}"
   ]
  },
  {
   "cell_type": "code",
   "execution_count": null,
   "id": "2fe8dea8",
   "metadata": {},
   "outputs": [],
   "source": [
    "# Checking if all parameters are in here\n",
    "list(yamls.keys()).sort() == list(needed_nuisance_params_TTTEEE).sort()"
   ]
  },
  {
   "cell_type": "code",
   "execution_count": 83,
   "id": "5069986c",
   "metadata": {},
   "outputs": [],
   "source": [
    "standard_nuisance_params_TTTEEE = np.zeros(47) # Default values for the TTTEEE nuisance parameters, in order\n",
    "for i, nuisance_param in enumerate(needed_nuisance_params_TTTEEE):\n",
    "    try:\n",
    "        standard_nuisance_params_TTTEEE[i] = yamls[nuisance_param]\n",
    "    except TypeError:\n",
    "        try:\n",
    "            standard_nuisance_params_TTTEEE[i] = yamls[nuisance_param]['value']\n",
    "        except KeyError:\n",
    "            standard_nuisance_params_TTTEEE[i] = yamls[nuisance_param]['ref']['loc']"
   ]
  },
  {
   "cell_type": "code",
   "execution_count": 84,
   "id": "ae56a671",
   "metadata": {},
   "outputs": [
    {
     "data": {
      "text/plain": [
       "array([ 6.7000e+01, -1.3000e+00,  0.0000e+00,  7.0000e+00,  2.5700e+02,\n",
       "        4.7000e+01,  4.0000e+01,  1.0400e+02,  0.0000e+00,  7.0000e+00,\n",
       "        9.0000e+00,  2.1000e+01,  8.0000e+01,  5.5000e-02,  4.0000e-02,\n",
       "        9.4000e-02,  8.6000e-02,  2.1000e-01,  7.0000e-01, -2.4000e+00,\n",
       "        1.3000e-01,  1.3000e-01,  4.6000e-01,  2.0700e-01,  6.9000e-01,\n",
       "        1.9380e+00, -2.4000e+00,  1.0000e+00,  1.0000e+00,  1.0000e+00,\n",
       "        1.0000e+00,  1.0000e+00,  1.0000e+00,  1.0000e+00,  1.0000e+00,\n",
       "        1.0000e+00,  1.0000e+00,  1.0000e+00,  1.0000e+00,  1.0000e+00,\n",
       "        1.0002e+00,  9.9805e-01,  1.0210e+00,  9.6600e-01,  1.0400e+00,\n",
       "        1.0000e+00,  1.0000e+00])"
      ]
     },
     "execution_count": 84,
     "metadata": {},
     "output_type": "execute_result"
    }
   ],
   "source": [
    "standard_nuisance_params_TTTEEE"
   ]
  },
  {
   "cell_type": "code",
   "execution_count": 85,
   "id": "e27da4a4",
   "metadata": {},
   "outputs": [],
   "source": [
    "# Formatting the input\n",
    "needed_cls = np.append(cls['TT'], cls['EE'])\n",
    "needed_cls = np.append(needed_cls, cls['TE'])\n",
    "input_to_like_TTTEEE = needed_cls\n",
    "for element in standard_nuisance_params_TTTEEE:\n",
    "    input_to_like_TTTEEE = np.append(input_to_like_TTTEEE, float(element))"
   ]
  },
  {
   "cell_type": "code",
   "execution_count": 86,
   "id": "c62a089d",
   "metadata": {},
   "outputs": [
    {
     "name": "stdout",
     "output_type": "stream",
     "text": [
      "TTTEEE high-l log-likelihood for my example: [-1537.00959506]\n"
     ]
    }
   ],
   "source": [
    "# Finally, calculating high-l TTTEEE likelihood\n",
    "example2_loglike = highl_like(input_to_like_TTTEEE)\n",
    "print('TTTEEE high-l log-likelihood for my example:', example2_loglike)"
   ]
  },
  {
   "cell_type": "markdown",
   "id": "b2fdc0e6",
   "metadata": {},
   "source": [
    "## Third Example: Lensing\n",
    "Lensing works a bit differently: now we need to insert $C_\\ell^{\\phi\\phi}$, $C_\\ell^{TT}$, $C_\\ell^{EE}$, $C_\\ell^{TE}$ in this order, up until $\\ell = 2500$. You can generate a fiducial lensing power spectrum $C_\\ell^{\\phi\\phi}$ with the method `get_clpp_fid()`"
   ]
  },
  {
   "cell_type": "code",
   "execution_count": 11,
   "id": "b7d4b377",
   "metadata": {},
   "outputs": [
    {
     "name": "stdout",
     "output_type": "stream",
     "text": [
      "[2500 2500 2500   -1 2500   -1   -1]\n",
      "('A_planck',)\n"
     ]
    }
   ],
   "source": [
    "# Checking\n",
    "print(lensing_like.get_lmax())\n",
    "print(lensing_like.get_extra_parameter_names())"
   ]
  },
  {
   "cell_type": "code",
   "execution_count": 20,
   "id": "b8d6d417",
   "metadata": {},
   "outputs": [],
   "source": [
    "clpp = lensing_like.get_clpp_fid()\n",
    "aplanck = 1\n",
    "input_to_like_lens = clpp\n",
    "for cl in [cls['TT'], cls['EE'], cls['TE']]:\n",
    "    input_to_like_lens = np.append(input_to_like_lens, cl[:2501])\n",
    "input_to_like_lens = np.append(input_to_like_lens, [aplanck])"
   ]
  },
  {
   "cell_type": "code",
   "execution_count": 21,
   "id": "8cf3f60b",
   "metadata": {},
   "outputs": [
    {
     "name": "stdout",
     "output_type": "stream",
     "text": [
      "Lensing log-likelihood for my example: [-25.28993146]\n"
     ]
    }
   ],
   "source": [
    "example3_loglike = lensing_like(input_to_like_lens)\n",
    "print('Lensing log-likelihood for my example:', example3_loglike)"
   ]
  },
  {
   "cell_type": "markdown",
   "id": "b7b8860d",
   "metadata": {},
   "source": [
    "## Final Example: All likelihoods\n",
    "Now, I'm going to use high-l TTTEEE, low-l TT+EE and lensing (smica): these likelihoods form the Planck baseline likelihood"
   ]
  },
  {
   "cell_type": "code",
   "execution_count": 112,
   "id": "870f5636",
   "metadata": {},
   "outputs": [
    {
     "name": "stdout",
     "output_type": "stream",
     "text": [
      "[2500 2500 2500   -1 2500   -1   -1]\n",
      "low-l TT needs: Cl^TT up until l = 29 and ('A_planck',) \n",
      "\n",
      "low-l EE needs: Cl^EE up until l = 29 and ('A_planck',) \n",
      "\n",
      "high-l TTTEEE needs: Cl^TT, Cl^EE and Cl^TE up until l = 2508 and ('A_cib_217', 'cib_index', 'xi_sz_cib', 'A_sz', 'ps_A_100_100', 'ps_A_143_143', 'ps_A_143_217', 'ps_A_217_217', 'ksz_norm', 'gal545_A_100', 'gal545_A_143', 'gal545_A_143_217', 'gal545_A_217', 'galf_EE_A_100', 'galf_EE_A_100_143', 'galf_EE_A_100_217', 'galf_EE_A_143', 'galf_EE_A_143_217', 'galf_EE_A_217', 'galf_EE_index', 'galf_TE_A_100', 'galf_TE_A_100_143', 'galf_TE_A_100_217', 'galf_TE_A_143', 'galf_TE_A_143_217', 'galf_TE_A_217', 'galf_TE_index', 'A_cnoise_e2e_100_100_EE', 'A_cnoise_e2e_143_143_EE', 'A_cnoise_e2e_217_217_EE', 'A_sbpx_100_100_TT', 'A_sbpx_143_143_TT', 'A_sbpx_143_217_TT', 'A_sbpx_217_217_TT', 'A_sbpx_100_100_EE', 'A_sbpx_100_143_EE', 'A_sbpx_100_217_EE', 'A_sbpx_143_143_EE', 'A_sbpx_143_217_EE', 'A_sbpx_217_217_EE', 'calib_100T', 'calib_217T', 'calib_100P', 'calib_143P', 'calib_217P', 'A_pol', 'A_planck') \n",
      "\n",
      "Lensing needs: Cl^\\phi\\phi, Cl^TT, Cl^EE and Cl^TE up until l = 2500 and ('A_planck',)\n"
     ]
    }
   ],
   "source": [
    "print(lensing_like.get_lmax())\n",
    "print('low-l TT needs: Cl^TT up until l =', lowl_TT_like.get_lmax()[0], 'and', lowl_TT_like.get_extra_parameter_names(), '\\n')\n",
    "print('low-l EE needs: Cl^EE up until l =', lowl_EE_like.get_lmax()[1], 'and', lowl_EE_like.get_extra_parameter_names(), '\\n')\n",
    "print('high-l TTTEEE needs: Cl^TT, Cl^EE and Cl^TE up until l =', highl_like.get_lmax()[0], 'and', highl_like.get_extra_parameter_names(), '\\n')\n",
    "print('Lensing needs: Cl^\\phi\\phi, Cl^TT, Cl^EE and Cl^TE up until l =', lensing_like.get_lmax()[0], 'and', lensing_like.get_extra_parameter_names())"
   ]
  },
  {
   "cell_type": "code",
   "execution_count": null,
   "id": "19bac937",
   "metadata": {},
   "outputs": [],
   "source": []
  }
 ],
 "metadata": {
  "kernelspec": {
   "display_name": "cocoa",
   "language": "python",
   "name": "python3"
  },
  "language_info": {
   "codemirror_mode": {
    "name": "ipython",
    "version": 3
   },
   "file_extension": ".py",
   "mimetype": "text/x-python",
   "name": "python",
   "nbconvert_exporter": "python",
   "pygments_lexer": "ipython3",
   "version": "3.7.12"
  },
  "vscode": {
   "interpreter": {
    "hash": "f81a776e024b1b39e15ba61f83a5fd24ab4754a75336154b46a3515915405354"
   }
  }
 },
 "nbformat": 4,
 "nbformat_minor": 5
}
